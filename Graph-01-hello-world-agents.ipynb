{
 "cells": [
  {
   "cell_type": "markdown",
   "id": "102660f5-92c1-44e1-be5f-1202bb19b78a",
   "metadata": {},
   "source": [
    "### https://github.com/Vaibhav807/LangGraph-Course/tree/main/Graphs"
   ]
  },
  {
   "cell_type": "code",
   "execution_count": 1,
   "id": "123cf5b8-38ff-4afa-9a2c-673e49e423ed",
   "metadata": {},
   "outputs": [],
   "source": [
    "from typing import Dict, TypedDict\n",
    "from langgraph.graph import StateGraph"
   ]
  },
  {
   "cell_type": "code",
   "execution_count": 3,
   "id": "3aede922-f222-4aba-acc1-bb3c41b8a729",
   "metadata": {},
   "outputs": [],
   "source": [
    "# AgentState: Shared data structure that keeps track of information as your application runs.\n",
    "\n",
    "class AgentState(TypedDict):   # State schema\n",
    "    message: str\n",
    "\n",
    "def greeting_node(state: AgentState) -> AgentState:\n",
    "    \"Simple node that adds a greeting message to the state\"\n",
    "\n",
    "    state[\"message\"] = \"Hey \" + state[\"message\"] + \", how is your day going?\"\n",
    "\n",
    "    return state"
   ]
  },
  {
   "cell_type": "code",
   "execution_count": 5,
   "id": "e840fa4a-4195-4c03-8961-291e651f7c1b",
   "metadata": {},
   "outputs": [],
   "source": [
    "graph = StateGraph(AgentState)\n",
    "\n",
    "graph.add_node(\"greeter\", greeting_node)\n",
    "\n",
    "graph.set_entry_point(\"greeter\")\n",
    "graph.set_finish_point(\"greeter\")\n",
    "\n",
    "app = graph.compile()"
   ]
  },
  {
   "cell_type": "code",
   "execution_count": 7,
   "id": "dce9127a-4e7e-45b5-aa27-933c03ccdf7b",
   "metadata": {},
   "outputs": [
    {
     "data": {
      "image/png": "[encoded data removed]",
      "text/plain": [
       "<IPython.core.display.Image object>"
      ]
     },
     "metadata": {},
     "output_type": "display_data"
    }
   ],
   "source": [
    "from IPython.display import Image, display\n",
    "display(Image(app.get_graph().draw_mermaid_png()))"
   ]
  },
  {
   "cell_type": "code",
   "execution_count": 8,
   "id": "56934855-fcd2-4d67-85c3-c94591f528c4",
   "metadata": {},
   "outputs": [],
   "source": [
    "result = app.invoke({\"message\": \"Bob\"})"
   ]
  },
  {
   "cell_type": "code",
   "execution_count": 10,
   "id": "cd223e64-7df9-41fc-9bbb-c2dceb8f7aaa",
   "metadata": {},
   "outputs": [
    {
     "data": {
      "text/plain": [
       "'Hey Bob, how is your day going?'"
      ]
     },
     "execution_count": 10,
     "metadata": {},
     "output_type": "execute_result"
    }
   ],
   "source": [
    "result[\"message\"]"
   ]
  },
  {
   "cell_type": "code",
   "execution_count": null,
   "id": "7b7089b0-4607-40aa-92c4-cf1f12f3b1ef",
   "metadata": {},
   "outputs": [],
   "source": []
  },
  {
   "cell_type": "markdown",
   "id": "14e2fac1-98a7-4a16-a31e-f5eeaef36a50",
   "metadata": {},
   "source": [
    "## Exercise for Graph"
   ]
  },
  {
   "cell_type": "code",
   "execution_count": 12,
   "id": "8d5dd70f-f18c-46ac-8bcd-0c8d2967eca1",
   "metadata": {},
   "outputs": [],
   "source": [
    "from typing import Dict, TypedDict\n",
    "from langgraph.graph import StateGraph"
   ]
  },
  {
   "cell_type": "code",
   "execution_count": 13,
   "id": "e157029f-9c28-438f-b5d2-7b9c9bbabb6d",
   "metadata": {},
   "outputs": [],
   "source": [
    "# AgentState: Shared data structure that keeps track of information as your application runs.\n",
    "\n",
    "class AgentState(TypedDict):   # State schema\n",
    "    message: str\n",
    "\n",
    "def complimentary_node(state: AgentState) -> AgentState:\n",
    "    \"Simple node that adds a greeting message to the state\"\n",
    "\n",
    "    state[\"message\"] = state[\"message\"] + \", you are doing an amazing job learning LangGraph!\"\n",
    "\n",
    "    return state"
   ]
  },
  {
   "cell_type": "code",
   "execution_count": 14,
   "id": "f4e8332d-4426-4b33-a5ff-e544a66aacf4",
   "metadata": {},
   "outputs": [],
   "source": [
    "graph = StateGraph(AgentState)\n",
    "\n",
    "graph.add_node(\"Personalized Compliments\", complimentary_node)\n",
    "\n",
    "graph.set_entry_point(\"Personalized Compliments\")\n",
    "graph.set_finish_point(\"Personalized Compliments\")\n",
    "\n",
    "app = graph.compile()"
   ]
  },
  {
   "cell_type": "code",
   "execution_count": 15,
   "id": "bb6ee737-9609-4ff6-a440-7558cc7e8663",
   "metadata": {},
   "outputs": [
    {
     "data": {
      "image/png": "[encoded data removed]",
      "text/plain": [
       "<IPython.core.display.Image object>"
      ]
     },
     "metadata": {},
     "output_type": "display_data"
    }
   ],
   "source": [
    "from IPython.display import Image, display\n",
    "display(Image(app.get_graph().draw_mermaid_png()))"
   ]
  },
  {
   "cell_type": "code",
   "execution_count": 16,
   "id": "4b1f905f-9f1b-4178-91b8-0e18b0f77d14",
   "metadata": {},
   "outputs": [],
   "source": [
    "result = app.invoke({\"message\": \"Bob\"})"
   ]
  },
  {
   "cell_type": "code",
   "execution_count": 18,
   "id": "a509d7fc-dab1-4f9c-aed2-384489711730",
   "metadata": {},
   "outputs": [
    {
     "data": {
      "text/plain": [
       "'Bob, you are doing an amazing job learning LangGraph!'"
      ]
     },
     "execution_count": 18,
     "metadata": {},
     "output_type": "execute_result"
    }
   ],
   "source": [
    "result[\"message\"]"
   ]
  }
 ],
 "metadata": {
  "kernelspec": {
   "display_name": "Python 3 (ipykernel)",
   "language": "python",
   "name": "python3"
  },
  "language_info": {
   "codemirror_mode": {
    "name": "ipython",
    "version": 3
   },
   "file_extension": ".py",
   "mimetype": "text/x-python",
   "name": "python",
   "nbconvert_exporter": "python",
   "pygments_lexer": "ipython3",
   "version": "3.10.11"
  }
 },
 "nbformat": 4,
 "nbformat_minor": 5
}
